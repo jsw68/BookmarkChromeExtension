{
 "cells": [
  {
   "cell_type": "markdown",
   "metadata": {
    "collapsed": true,
    "pycharm": {
     "name": "#%% md\n"
    }
   },
   "source": [
    "# Proposal:\n",
    "A chrome extension that allows the user to save links (and maybe notes) under a specific topic/collection."
   ]
  },
  {
   "cell_type": "markdown",
   "source": [
    "The user will have the option to add the current URL, remove a URL, add a collection, remove a collection,\n",
    "and open links that have been previously saved."
   ],
   "metadata": {
    "collapsed": false
   }
  },
  {
   "cell_type": "markdown",
   "source": [
    "# Code Log"
   ],
   "metadata": {
    "collapsed": false
   }
  },
  {
   "cell_type": "markdown",
   "source": [
    "### URLs\n",
    "I had a little trouble with saving information to the Chrome storage API, but it is fixed now.\n",
    "Now I have the ability to save links, show those links, and then open them later."
   ],
   "metadata": {
    "collapsed": false,
    "pycharm": {
     "name": "#%% md\n"
    }
   }
  },
  {
   "cell_type": "markdown",
   "source": [
    "A few bugs/annoyances with the current system:\n",
    "1. I have to press show URLS every time, I want that to be a function that is called in some sort of loop.\n",
    "1. If I press add URL, and then show, it works right away, but if I remove the URL, I have to exit the popup and\n",
    "click show again for it to refresh. I have no idea how to fix this one.\n",
    "1. **Resolved:** Importing Jquery is not working properly. This has been fixed by downloading Jquery and importing it\n",
    "as a file instead of from a CDN."
   ],
   "metadata": {
    "collapsed": false,
    "pycharm": {
     "name": "#%% md\n"
    }
   }
  },
  {
   "cell_type": "markdown",
   "source": [
    "### Collections\n",
    "I am happy with the progress on the saving URL system, so I am moving on to adding collections."
   ],
   "metadata": {
    "collapsed": false
   }
  },
  {
   "cell_type": "markdown",
   "source": [
    "I have done research on how to display multiple sources of information without changing the HTML source, and I have\n",
    "settled on jquery tabs."
   ],
   "metadata": {
    "collapsed": false,
    "pycharm": {
     "name": "#%% md\n"
    }
   }
  },
  {
   "cell_type": "markdown",
   "source": [
    "**Resolved:** I cannot get the tabs to display properly, they show up as links, not as the fancy jquery tabs.\n",
    "The problem was I had not downloaded the jqueryui css, and I also had a misnamed div."
   ],
   "metadata": {
    "collapsed": false,
    "pycharm": {
     "name": "#%% md\n"
    }
   }
  },
  {
   "cell_type": "markdown",
   "source": [
    "This is where I am at the time of submission to teh first checkpoint:\n",
    "1. I can add URLs, but they do not display under a certain collection yet.\n",
    "1. I can add collections, but they do not save to storage yet, which means the delete when the\n",
    "popup is dismissed.\n",
    "1. The removing collections feature does not work."
   ],
   "metadata": {
    "collapsed": false
   }
  },
  {
   "cell_type": "markdown",
   "source": [
    "## Thoughts so far\n",
    "I think I will continue with this project. For my first real foray into Javascript, I would say it is going quite well.\n",
    "However, I'm not sure how/if I will implement Python.\n",
    "I have found that with this project, it is more important to understand the APIs and structures that I am\n",
    "working with than two have a really good grasp on the abilities of the language."
   ],
   "metadata": {
    "collapsed": false
   }
  },
  {
   "cell_type": "markdown",
   "source": [
    "I have continued investing how best to implement tabs into the popup.\n",
    "I think I will abandon my original plan of Jquery tabs in favor of Bootstrap tabs.\n",
    "They are easier to dynamically add, remove, and edit."
   ],
   "metadata": {
    "collapsed": false
   }
  },
  {
   "cell_type": "markdown",
   "source": [
    "I have just found a good JSFiddle for adding and removing Bootstrap tabs, and have modified it to edit tab names as well.\n",
    "I think I will now try and implement this fiddle into my main project."
   ],
   "metadata": {
    "collapsed": false
   }
  },
  {
   "cell_type": "markdown",
   "source": [
    "Bootstrap tabs are now working in the main project. The new naming and removing features are both working great. \n",
    "My next step will be to save the names and numbers of these tabs to chrome storage so they will be remembered\n",
    "once the use leaves the popup and displayed when they come back. "
   ],
   "metadata": {
    "collapsed": false
   }
  },
  {
   "cell_type": "markdown",
   "source": [
    "The number of tabs and their names are now saved to chrome storage and are\n",
    "automatically shown each time the user opens the popup."
   ],
   "metadata": {
    "collapsed": false
   }
  },
  {
   "cell_type": "markdown",
   "source": [
    "After having a lot of issues with different methods of storage, I have united all the storage under one variable named\n",
    "storage. This has made it a lot easier to access links and the tabs they belong to all at once."
   ],
   "metadata": {
    "collapsed": false
   }
  },
  {
   "cell_type": "markdown",
   "source": [
    "After a lot of typing and even more deleting, the adding URLs is working now. I think things will get faster from here."
   ],
   "metadata": {
    "collapsed": false
   }
  },
  {
   "cell_type": "markdown",
   "source": [
    "The collections have now been fixed so that URLs don't carry over between tabs. Also URLs can now be removed."
   ],
   "metadata": {
    "collapsed": false
   }
  },
  {
   "cell_type": "markdown",
   "source": [
    "Tab renaming has been fixed, I was having issues with the difference between null as a value and null as a string."
   ],
   "metadata": {
    "collapsed": false,
    "pycharm": {
     "name": "#%% md\n"
    }
   }
  },
  {
   "cell_type": "markdown",
   "source": [
    "I have done a lot of cleaning up of the code, it now looks much nicer. All unused functions and commented out code\n",
    "has been removed."
   ],
   "metadata": {
    "collapsed": false,
    "pycharm": {
     "name": "#%% md\n"
    }
   }
  },
  {
   "cell_type": "markdown",
   "source": [
    "I am now using bootstrap for all the buttons and it looks much better."
   ],
   "metadata": {
    "collapsed": false,
    "pycharm": {
     "name": "#%% md\n"
    }
   }
  },
  {
   "cell_type": "markdown",
   "source": [],
   "metadata": {
    "collapsed": false,
    "pycharm": {
     "name": "#%% md\n"
    }
   }
  }
 ],
 "metadata": {
  "kernelspec": {
   "display_name": "Python 3",
   "language": "python",
   "name": "python3"
  },
  "language_info": {
   "codemirror_mode": {
    "name": "ipython",
    "version": 2
   },
   "file_extension": ".py",
   "mimetype": "text/x-python",
   "name": "python",
   "nbconvert_exporter": "python",
   "pygments_lexer": "ipython2",
   "version": "2.7.6"
  }
 },
 "nbformat": 4,
 "nbformat_minor": 0
}